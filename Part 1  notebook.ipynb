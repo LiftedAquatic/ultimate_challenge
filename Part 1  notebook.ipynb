{
 "cells": [
  {
   "cell_type": "markdown",
   "metadata": {},
   "source": [
    "# Ultimate Takehome Challenge"
   ]
  },
  {
   "cell_type": "code",
   "execution_count": 1,
   "metadata": {},
   "outputs": [],
   "source": [
    "# import packages\n",
    "\n",
    "import pandas as pd\n",
    "import numpy as np\n",
    "import matplotlib.pyplot as plt\n",
    "import seaborn as sns\n",
    "import json\n",
    "\n",
    "import warnings\n",
    "warnings.filterwarnings('ignore')"
   ]
  },
  {
   "cell_type": "markdown",
   "metadata": {},
   "source": [
    "# Part 1 - Exploratory Data Analysis \n",
    "\n",
    "The attached logins.json file contains (simulated) timestamps of user logins in a particular geographic location. Aggregate these login counts based on 15minute time intervals, and visualize and describe the resulting time series of login counts in ways that best characterize the underlying patterns of the demand. Please report/illustrate important features of the demand, such as daily cycles. If there are data quality issues, please report them."
   ]
  },
  {
   "cell_type": "markdown",
   "metadata": {},
   "source": [
    "Load logins data into pandas dataframe"
   ]
  },
  {
   "cell_type": "code",
   "execution_count": 2,
   "metadata": {},
   "outputs": [],
   "source": [
    "# load json 'logins' file into dataframe\n",
    "\n",
    "logins_df = pd.read_json(\"logins.json\")"
   ]
  },
  {
   "cell_type": "code",
   "execution_count": 3,
   "metadata": {},
   "outputs": [
    {
     "data": {
      "text/plain": "login_time    datetime64[ns]\ndtype: object"
     },
     "execution_count": 3,
     "metadata": {},
     "output_type": "execute_result"
    }
   ],
   "source": [
    "# make sure the datatype is in 'datetime' format \n",
    "\n",
    "logins_df.dtypes"
   ]
  },
  {
   "cell_type": "markdown",
   "metadata": {},
   "source": [
    "In order to easily aggregate the login times I will index the dataframe by the time stamp."
   ]
  },
  {
   "cell_type": "code",
   "execution_count": 4,
   "metadata": {},
   "outputs": [],
   "source": [
    "# set the login_time column as the new index \n",
    "\n",
    "logins_df.set_index('login_time', inplace=True)"
   ]
  },
  {
   "cell_type": "code",
   "execution_count": 5,
   "metadata": {},
   "outputs": [],
   "source": [
    "# create new column that will count the time-stamps and will be grouped by 15 min intervals \n",
    "\n",
    "logins_df['login_count'] = 1"
   ]
  },
  {
   "cell_type": "code",
   "execution_count": 6,
   "metadata": {},
   "outputs": [
    {
     "data": {
      "text/html": "<div>\n<style scoped>\n    .dataframe tbody tr th:only-of-type {\n        vertical-align: middle;\n    }\n\n    .dataframe tbody tr th {\n        vertical-align: top;\n    }\n\n    .dataframe thead th {\n        text-align: right;\n    }\n</style>\n<table border=\"1\" class=\"dataframe\">\n  <thead>\n    <tr style=\"text-align: right;\">\n      <th></th>\n      <th>login_count</th>\n    </tr>\n    <tr>\n      <th>login_time</th>\n      <th></th>\n    </tr>\n  </thead>\n  <tbody>\n    <tr>\n      <th>1970-01-01 20:13:18</th>\n      <td>1</td>\n    </tr>\n    <tr>\n      <th>1970-01-01 20:16:10</th>\n      <td>1</td>\n    </tr>\n    <tr>\n      <th>1970-01-01 20:16:37</th>\n      <td>1</td>\n    </tr>\n    <tr>\n      <th>1970-01-01 20:16:36</th>\n      <td>1</td>\n    </tr>\n    <tr>\n      <th>1970-01-01 20:26:21</th>\n      <td>1</td>\n    </tr>\n    <tr>\n      <th>...</th>\n      <td>...</td>\n    </tr>\n    <tr>\n      <th>1970-04-13 18:50:19</th>\n      <td>1</td>\n    </tr>\n    <tr>\n      <th>1970-04-13 18:43:56</th>\n      <td>1</td>\n    </tr>\n    <tr>\n      <th>1970-04-13 18:54:02</th>\n      <td>1</td>\n    </tr>\n    <tr>\n      <th>1970-04-13 18:57:38</th>\n      <td>1</td>\n    </tr>\n    <tr>\n      <th>1970-04-13 18:54:23</th>\n      <td>1</td>\n    </tr>\n  </tbody>\n</table>\n<p>93142 rows × 1 columns</p>\n</div>",
      "text/plain": "                     login_count\nlogin_time                      \n1970-01-01 20:13:18            1\n1970-01-01 20:16:10            1\n1970-01-01 20:16:37            1\n1970-01-01 20:16:36            1\n1970-01-01 20:26:21            1\n...                          ...\n1970-04-13 18:50:19            1\n1970-04-13 18:43:56            1\n1970-04-13 18:54:02            1\n1970-04-13 18:57:38            1\n1970-04-13 18:54:23            1\n\n[93142 rows x 1 columns]"
     },
     "execution_count": 6,
     "metadata": {},
     "output_type": "execute_result"
    }
   ],
   "source": [
    "# each time-stamp should have a value of '1'\n",
    "\n",
    "logins_df"
   ]
  },
  {
   "cell_type": "code",
   "execution_count": 7,
   "metadata": {},
   "outputs": [],
   "source": [
    "# use the 'resample' method along with 'sum' to aggreagte the time-stamps by 15min intervals \n",
    "\n",
    "logins_15mins_df = logins_df.resample('15T').sum()"
   ]
  },
  {
   "cell_type": "code",
   "execution_count": 8,
   "metadata": {},
   "outputs": [
    {
     "data": {
      "text/html": "<div>\n<style scoped>\n    .dataframe tbody tr th:only-of-type {\n        vertical-align: middle;\n    }\n\n    .dataframe tbody tr th {\n        vertical-align: top;\n    }\n\n    .dataframe thead th {\n        text-align: right;\n    }\n</style>\n<table border=\"1\" class=\"dataframe\">\n  <thead>\n    <tr style=\"text-align: right;\">\n      <th></th>\n      <th>login_count</th>\n    </tr>\n    <tr>\n      <th>login_time</th>\n      <th></th>\n    </tr>\n  </thead>\n  <tbody>\n    <tr>\n      <th>1970-01-01 20:00:00</th>\n      <td>2</td>\n    </tr>\n    <tr>\n      <th>1970-01-01 20:15:00</th>\n      <td>6</td>\n    </tr>\n    <tr>\n      <th>1970-01-01 20:30:00</th>\n      <td>9</td>\n    </tr>\n    <tr>\n      <th>1970-01-01 20:45:00</th>\n      <td>7</td>\n    </tr>\n    <tr>\n      <th>1970-01-01 21:00:00</th>\n      <td>1</td>\n    </tr>\n    <tr>\n      <th>...</th>\n      <td>...</td>\n    </tr>\n    <tr>\n      <th>1970-04-13 17:45:00</th>\n      <td>5</td>\n    </tr>\n    <tr>\n      <th>1970-04-13 18:00:00</th>\n      <td>5</td>\n    </tr>\n    <tr>\n      <th>1970-04-13 18:15:00</th>\n      <td>2</td>\n    </tr>\n    <tr>\n      <th>1970-04-13 18:30:00</th>\n      <td>7</td>\n    </tr>\n    <tr>\n      <th>1970-04-13 18:45:00</th>\n      <td>6</td>\n    </tr>\n  </tbody>\n</table>\n<p>9788 rows × 1 columns</p>\n</div>",
      "text/plain": "                     login_count\nlogin_time                      \n1970-01-01 20:00:00            2\n1970-01-01 20:15:00            6\n1970-01-01 20:30:00            9\n1970-01-01 20:45:00            7\n1970-01-01 21:00:00            1\n...                          ...\n1970-04-13 17:45:00            5\n1970-04-13 18:00:00            5\n1970-04-13 18:15:00            2\n1970-04-13 18:30:00            7\n1970-04-13 18:45:00            6\n\n[9788 rows x 1 columns]"
     },
     "execution_count": 8,
     "metadata": {},
     "output_type": "execute_result"
    }
   ],
   "source": [
    "logins_15mins_df"
   ]
  },
  {
   "cell_type": "code",
   "execution_count": 9,
   "metadata": {},
   "outputs": [],
   "source": [
    "# make the login-times a column and reset the index \n",
    "\n",
    "logins_15mins_df.index.name = 'time_window'\n",
    "logins_15mins_df.reset_index(inplace=True)"
   ]
  },
  {
   "cell_type": "code",
   "execution_count": 10,
   "metadata": {},
   "outputs": [
    {
     "data": {
      "text/html": "<div>\n<style scoped>\n    .dataframe tbody tr th:only-of-type {\n        vertical-align: middle;\n    }\n\n    .dataframe tbody tr th {\n        vertical-align: top;\n    }\n\n    .dataframe thead th {\n        text-align: right;\n    }\n</style>\n<table border=\"1\" class=\"dataframe\">\n  <thead>\n    <tr style=\"text-align: right;\">\n      <th></th>\n      <th>time_window</th>\n      <th>login_count</th>\n    </tr>\n  </thead>\n  <tbody>\n    <tr>\n      <th>0</th>\n      <td>1970-01-01 20:00:00</td>\n      <td>2</td>\n    </tr>\n    <tr>\n      <th>1</th>\n      <td>1970-01-01 20:15:00</td>\n      <td>6</td>\n    </tr>\n    <tr>\n      <th>2</th>\n      <td>1970-01-01 20:30:00</td>\n      <td>9</td>\n    </tr>\n    <tr>\n      <th>3</th>\n      <td>1970-01-01 20:45:00</td>\n      <td>7</td>\n    </tr>\n    <tr>\n      <th>4</th>\n      <td>1970-01-01 21:00:00</td>\n      <td>1</td>\n    </tr>\n    <tr>\n      <th>...</th>\n      <td>...</td>\n      <td>...</td>\n    </tr>\n    <tr>\n      <th>9783</th>\n      <td>1970-04-13 17:45:00</td>\n      <td>5</td>\n    </tr>\n    <tr>\n      <th>9784</th>\n      <td>1970-04-13 18:00:00</td>\n      <td>5</td>\n    </tr>\n    <tr>\n      <th>9785</th>\n      <td>1970-04-13 18:15:00</td>\n      <td>2</td>\n    </tr>\n    <tr>\n      <th>9786</th>\n      <td>1970-04-13 18:30:00</td>\n      <td>7</td>\n    </tr>\n    <tr>\n      <th>9787</th>\n      <td>1970-04-13 18:45:00</td>\n      <td>6</td>\n    </tr>\n  </tbody>\n</table>\n<p>9788 rows × 2 columns</p>\n</div>",
      "text/plain": "             time_window  login_count\n0    1970-01-01 20:00:00            2\n1    1970-01-01 20:15:00            6\n2    1970-01-01 20:30:00            9\n3    1970-01-01 20:45:00            7\n4    1970-01-01 21:00:00            1\n...                  ...          ...\n9783 1970-04-13 17:45:00            5\n9784 1970-04-13 18:00:00            5\n9785 1970-04-13 18:15:00            2\n9786 1970-04-13 18:30:00            7\n9787 1970-04-13 18:45:00            6\n\n[9788 rows x 2 columns]"
     },
     "execution_count": 10,
     "metadata": {},
     "output_type": "execute_result"
    }
   ],
   "source": [
    "logins_15mins_df"
   ]
  },
  {
   "cell_type": "code",
   "execution_count": 11,
   "metadata": {},
   "outputs": [],
   "source": [
    "# extract the day of the week and hour from the datetime objects in the 'time window' column\n",
    "\n",
    "logins_15mins_df['day'] = logins_15mins_df.time_window.dt.day_name()\n",
    "logins_15mins_df['hour'] = logins_15mins_df.time_window.dt.hour\n"
   ]
  },
  {
   "cell_type": "code",
   "execution_count": 12,
   "metadata": {},
   "outputs": [
    {
     "data": {
      "text/html": "<div>\n<style scoped>\n    .dataframe tbody tr th:only-of-type {\n        vertical-align: middle;\n    }\n\n    .dataframe tbody tr th {\n        vertical-align: top;\n    }\n\n    .dataframe thead th {\n        text-align: right;\n    }\n</style>\n<table border=\"1\" class=\"dataframe\">\n  <thead>\n    <tr style=\"text-align: right;\">\n      <th></th>\n      <th>time_window</th>\n      <th>login_count</th>\n      <th>day</th>\n      <th>hour</th>\n    </tr>\n  </thead>\n  <tbody>\n    <tr>\n      <th>0</th>\n      <td>1970-01-01 20:00:00</td>\n      <td>2</td>\n      <td>Thursday</td>\n      <td>20</td>\n    </tr>\n    <tr>\n      <th>1</th>\n      <td>1970-01-01 20:15:00</td>\n      <td>6</td>\n      <td>Thursday</td>\n      <td>20</td>\n    </tr>\n    <tr>\n      <th>2</th>\n      <td>1970-01-01 20:30:00</td>\n      <td>9</td>\n      <td>Thursday</td>\n      <td>20</td>\n    </tr>\n    <tr>\n      <th>3</th>\n      <td>1970-01-01 20:45:00</td>\n      <td>7</td>\n      <td>Thursday</td>\n      <td>20</td>\n    </tr>\n    <tr>\n      <th>4</th>\n      <td>1970-01-01 21:00:00</td>\n      <td>1</td>\n      <td>Thursday</td>\n      <td>21</td>\n    </tr>\n    <tr>\n      <th>...</th>\n      <td>...</td>\n      <td>...</td>\n      <td>...</td>\n      <td>...</td>\n    </tr>\n    <tr>\n      <th>9783</th>\n      <td>1970-04-13 17:45:00</td>\n      <td>5</td>\n      <td>Monday</td>\n      <td>17</td>\n    </tr>\n    <tr>\n      <th>9784</th>\n      <td>1970-04-13 18:00:00</td>\n      <td>5</td>\n      <td>Monday</td>\n      <td>18</td>\n    </tr>\n    <tr>\n      <th>9785</th>\n      <td>1970-04-13 18:15:00</td>\n      <td>2</td>\n      <td>Monday</td>\n      <td>18</td>\n    </tr>\n    <tr>\n      <th>9786</th>\n      <td>1970-04-13 18:30:00</td>\n      <td>7</td>\n      <td>Monday</td>\n      <td>18</td>\n    </tr>\n    <tr>\n      <th>9787</th>\n      <td>1970-04-13 18:45:00</td>\n      <td>6</td>\n      <td>Monday</td>\n      <td>18</td>\n    </tr>\n  </tbody>\n</table>\n<p>9788 rows × 4 columns</p>\n</div>",
      "text/plain": "             time_window  login_count       day  hour\n0    1970-01-01 20:00:00            2  Thursday    20\n1    1970-01-01 20:15:00            6  Thursday    20\n2    1970-01-01 20:30:00            9  Thursday    20\n3    1970-01-01 20:45:00            7  Thursday    20\n4    1970-01-01 21:00:00            1  Thursday    21\n...                  ...          ...       ...   ...\n9783 1970-04-13 17:45:00            5    Monday    17\n9784 1970-04-13 18:00:00            5    Monday    18\n9785 1970-04-13 18:15:00            2    Monday    18\n9786 1970-04-13 18:30:00            7    Monday    18\n9787 1970-04-13 18:45:00            6    Monday    18\n\n[9788 rows x 4 columns]"
     },
     "execution_count": 12,
     "metadata": {},
     "output_type": "execute_result"
    }
   ],
   "source": [
    "#examine dataframe\n",
    "\n",
    "logins_15mins_df"
   ]
  },
  {
   "cell_type": "markdown",
   "metadata": {},
   "source": [
    "Being that this dataset only spans 3.5 months, I will define 'seasonality' as hourly and daily cycles. Now I am going to aggregate the day and hour columns, to get login counts for each. 15 minute intervals seems a bit granular to be relevant."
   ]
  },
  {
   "cell_type": "code",
   "execution_count": 13,
   "metadata": {},
   "outputs": [
    {
     "data": {
      "text/html": "<div>\n<style scoped>\n    .dataframe tbody tr th:only-of-type {\n        vertical-align: middle;\n    }\n\n    .dataframe tbody tr th {\n        vertical-align: top;\n    }\n\n    .dataframe thead th {\n        text-align: right;\n    }\n</style>\n<table border=\"1\" class=\"dataframe\">\n  <thead>\n    <tr style=\"text-align: right;\">\n      <th></th>\n      <th>login_count</th>\n    </tr>\n    <tr>\n      <th>day</th>\n      <th></th>\n    </tr>\n  </thead>\n  <tbody>\n    <tr>\n      <th>Saturday</th>\n      <td>19377</td>\n    </tr>\n    <tr>\n      <th>Sunday</th>\n      <td>18167</td>\n    </tr>\n    <tr>\n      <th>Friday</th>\n      <td>15208</td>\n    </tr>\n    <tr>\n      <th>Thursday</th>\n      <td>11960</td>\n    </tr>\n    <tr>\n      <th>Wednesday</th>\n      <td>10339</td>\n    </tr>\n    <tr>\n      <th>Tuesday</th>\n      <td>9268</td>\n    </tr>\n    <tr>\n      <th>Monday</th>\n      <td>8823</td>\n    </tr>\n  </tbody>\n</table>\n</div>",
      "text/plain": "           login_count\nday                   \nSaturday         19377\nSunday           18167\nFriday           15208\nThursday         11960\nWednesday        10339\nTuesday           9268\nMonday            8823"
     },
     "execution_count": 13,
     "metadata": {},
     "output_type": "execute_result"
    }
   ],
   "source": [
    "# aggregate by day of week \n",
    "day_counts = logins_15mins_df.groupby('day').sum()\n",
    "\n",
    "# drop 'hour' column\n",
    "day_counts.drop('hour', axis=1, inplace=True)\n",
    "\n",
    "#sort values from greatest to least\n",
    "day_counts.sort_values('login_count', ascending=False)"
   ]
  },
  {
   "cell_type": "markdown",
   "metadata": {},
   "source": [
    "We can see that the login count increses almost perfectly with the progression of the week, starting on Monday with the lowest count and peaking on Saturday with the highest count. "
   ]
  },
  {
   "cell_type": "code",
   "execution_count": 14,
   "metadata": {},
   "outputs": [
    {
     "data": {
      "text/html": "<div>\n<style scoped>\n    .dataframe tbody tr th:only-of-type {\n        vertical-align: middle;\n    }\n\n    .dataframe tbody tr th {\n        vertical-align: top;\n    }\n\n    .dataframe thead th {\n        text-align: right;\n    }\n</style>\n<table border=\"1\" class=\"dataframe\">\n  <thead>\n    <tr style=\"text-align: right;\">\n      <th></th>\n      <th>login_count</th>\n    </tr>\n    <tr>\n      <th>hour</th>\n      <th></th>\n    </tr>\n  </thead>\n  <tbody>\n    <tr>\n      <th>22</th>\n      <td>6607</td>\n    </tr>\n    <tr>\n      <th>1</th>\n      <td>6317</td>\n    </tr>\n    <tr>\n      <th>23</th>\n      <td>6058</td>\n    </tr>\n    <tr>\n      <th>0</th>\n      <td>5993</td>\n    </tr>\n    <tr>\n      <th>2</th>\n      <td>5800</td>\n    </tr>\n    <tr>\n      <th>11</th>\n      <td>5799</td>\n    </tr>\n    <tr>\n      <th>21</th>\n      <td>5623</td>\n    </tr>\n    <tr>\n      <th>4</th>\n      <td>5034</td>\n    </tr>\n    <tr>\n      <th>12</th>\n      <td>4964</td>\n    </tr>\n    <tr>\n      <th>3</th>\n      <td>4831</td>\n    </tr>\n    <tr>\n      <th>20</th>\n      <td>4103</td>\n    </tr>\n    <tr>\n      <th>13</th>\n      <td>3611</td>\n    </tr>\n    <tr>\n      <th>14</th>\n      <td>3426</td>\n    </tr>\n    <tr>\n      <th>19</th>\n      <td>3235</td>\n    </tr>\n    <tr>\n      <th>10</th>\n      <td>3064</td>\n    </tr>\n    <tr>\n      <th>15</th>\n      <td>3038</td>\n    </tr>\n    <tr>\n      <th>18</th>\n      <td>2980</td>\n    </tr>\n    <tr>\n      <th>5</th>\n      <td>2945</td>\n    </tr>\n    <tr>\n      <th>16</th>\n      <td>2832</td>\n    </tr>\n    <tr>\n      <th>17</th>\n      <td>2584</td>\n    </tr>\n    <tr>\n      <th>9</th>\n      <td>1527</td>\n    </tr>\n    <tr>\n      <th>6</th>\n      <td>1138</td>\n    </tr>\n    <tr>\n      <th>8</th>\n      <td>818</td>\n    </tr>\n    <tr>\n      <th>7</th>\n      <td>815</td>\n    </tr>\n  </tbody>\n</table>\n</div>",
      "text/plain": "      login_count\nhour             \n22           6607\n1            6317\n23           6058\n0            5993\n2            5800\n11           5799\n21           5623\n4            5034\n12           4964\n3            4831\n20           4103\n13           3611\n14           3426\n19           3235\n10           3064\n15           3038\n18           2980\n5            2945\n16           2832\n17           2584\n9            1527\n6            1138\n8             818\n7             815"
     },
     "execution_count": 14,
     "metadata": {},
     "output_type": "execute_result"
    }
   ],
   "source": [
    "# aggregate by hour of day\n",
    "hour_counts = logins_15mins_df.groupby('hour').sum()\n",
    "\n",
    "# sort values from greatest to least\n",
    "hour_counts.sort_values('login_count', ascending=False)\n"
   ]
  },
  {
   "cell_type": "markdown",
   "metadata": {},
   "source": [
    "We can see that the most common hours of the day to login in are 10pm, 1am, 11pm, Midnight, and 2am. This makes sense as people usually need a ride when they go out partying/drinking on the weekend. The least common hours are from 5-9am and around 4-6 pm. This suggests that people don't use this app much for commuting. "
   ]
  },
  {
   "cell_type": "code",
   "execution_count": 15,
   "metadata": {},
   "outputs": [
    {
     "data": {
      "image/png": "[encoded data removed]",
      "text/plain": "<Figure size 1800x720 with 1 Axes>"
     },
     "metadata": {
      "needs_background": "light"
     },
     "output_type": "display_data"
    }
   ],
   "source": [
    "# plot login count by hour of day for each day of the week \n",
    "\n",
    "hour_day_df = logins_15mins_df.groupby(['hour', 'day']).sum().reset_index()\n",
    "\n",
    "fig, ax = plt.subplots(figsize=(25,10))\n",
    "ax = sns.barplot(x='hour', y='login_count', data=hour_day_df, hue='day')\n",
    "ax.legend(title='Day of week' ,loc='upper right')\n",
    "ax.set(xlabel= 'Hour of day', ylabel= 'Total login count', title=\"Total logins per day by hour\")\n",
    "\n",
    "plt.show()"
   ]
  },
  {
   "cell_type": "markdown",
   "metadata": {},
   "source": [
    "Now let's plot out the entire time range by day/week"
   ]
  },
  {
   "cell_type": "code",
   "execution_count": 16,
   "metadata": {},
   "outputs": [],
   "source": [
    "# create new dataframe grouped by daily login count\n",
    "\n",
    "logins_period_df = logins_df.resample('1D').sum()"
   ]
  },
  {
   "cell_type": "code",
   "execution_count": 17,
   "metadata": {},
   "outputs": [],
   "source": [
    "# create new column for the date\n",
    "\n",
    "logins_period_df.index.name = 'date'\n",
    "\n",
    "# reset the index \n",
    "logins_period_df.reset_index(inplace=True)\n"
   ]
  },
  {
   "cell_type": "code",
   "execution_count": 18,
   "metadata": {},
   "outputs": [],
   "source": [
    "# create new column for the day of week and new column for month \n",
    "\n",
    "logins_period_df['day'] = logins_period_df.date.dt.day_name()\n",
    "\n",
    "logins_period_df['month'] = logins_period_df.date.dt.month_name()"
   ]
  },
  {
   "cell_type": "code",
   "execution_count": 19,
   "metadata": {},
   "outputs": [],
   "source": [
    "# extract week number from our date column\n",
    "\n",
    "logins_period_df['week'] = logins_period_df.date.dt.isocalendar().week"
   ]
  },
  {
   "cell_type": "code",
   "execution_count": 20,
   "metadata": {},
   "outputs": [],
   "source": [
    "# create new dataframe that sums login counts based on the week count \n",
    "\n",
    "weekly_logins_df = logins_period_df.groupby(['week', 'month']).sum().reset_index()"
   ]
  },
  {
   "cell_type": "code",
   "execution_count": 21,
   "metadata": {},
   "outputs": [
    {
     "data": {
      "text/plain": "[Text(0.5, 0, 'Week Number'),\n Text(0, 0.5, 'Total login count'),\n Text(0.5, 1.0, 'Total logins per week by month')]"
     },
     "execution_count": 21,
     "metadata": {},
     "output_type": "execute_result"
    },
    {
     "data": {
      "image/png": "[encoded data removed]",
      "text/plain": "<Figure size 1800x720 with 1 Axes>"
     },
     "metadata": {
      "needs_background": "light"
     },
     "output_type": "display_data"
    }
   ],
   "source": [
    "# plot the login counts over the 4 month time period by the week \n",
    "\n",
    "fig, ax = plt.subplots(figsize=(25,10))\n",
    "ax = sns.barplot(x='week', y='login_count', data=weekly_logins_df, hue='month')\n",
    "ax.legend(title='Day of week' ,loc='upper right')\n",
    "ax.set(xlabel= 'Week Number', ylabel= 'Total login count', title=\"Total logins per week by month\")"
   ]
  },
  {
   "cell_type": "markdown",
   "metadata": {},
   "source": [
    "We can see that ridership steadily increases over the 3 moth time window. This could be related to the seasonal shift from winter into spring; weather gets warmer, days get longer and people go out more and become more social. Ridership actually appears to peak right around the time of the daylight savings time shift (clock moving forward) and remains relatively high."
   ]
  }
 ],
 "metadata": {
  "kernelspec": {
   "display_name": "Python 3.8.8 64-bit ('anaconda3': virtualenv)",
   "name": "python388jvsc74a57bd0dca0ade3e726a953b501b15e8e990130d2b7799f14cfd9f4271676035ebe5511"
  },
  "language_info": {
   "codemirror_mode": {
    "name": "ipython",
    "version": 3
   },
   "file_extension": ".py",
   "mimetype": "text/x-python",
   "name": "python",
   "nbconvert_exporter": "python",
   "pygments_lexer": "ipython3",
   "version": "3.8.8"
  },
  "orig_nbformat": 3
 },
 "nbformat": 4,
 "nbformat_minor": 4
}